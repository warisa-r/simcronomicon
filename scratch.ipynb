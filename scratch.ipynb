{
 "cells": [
  {
   "cell_type": "code",
   "execution_count": 9,
   "id": "fa8af841",
   "metadata": {},
   "outputs": [
    {
     "ename": "AttributeError",
     "evalue": "module 'simcronomicon' has no attribute 'create_town'",
     "output_type": "error",
     "traceback": [
      "\u001b[31m---------------------------------------------------------------------------\u001b[39m",
      "\u001b[31mAttributeError\u001b[39m                            Traceback (most recent call last)",
      "\u001b[36mCell\u001b[39m\u001b[36m \u001b[39m\u001b[32mIn[9]\u001b[39m\u001b[32m, line 3\u001b[39m\n\u001b[32m      1\u001b[39m \u001b[38;5;28;01mimport\u001b[39;00m\u001b[38;5;250m \u001b[39m\u001b[34;01msimcronomicon\u001b[39;00m\n\u001b[32m----> \u001b[39m\u001b[32m3\u001b[39m town = \u001b[43msimcronomicon\u001b[49m\u001b[43m.\u001b[49m\u001b[43mcreate_town\u001b[49m(\u001b[32m20\u001b[39m, \u001b[32m0.7\u001b[39m)\n\u001b[32m      4\u001b[39m simcronomicon.draw_town(town)\n",
      "\u001b[31mAttributeError\u001b[39m: module 'simcronomicon' has no attribute 'create_town'"
     ]
    }
   ],
   "source": [
    "import simcronomicon\n",
    "\n",
    "town = simcronomicon.create_town(20, 0.7)\n",
    "simcronomicon.draw_town(town)"
   ]
  }
 ],
 "metadata": {
  "kernelspec": {
   "display_name": ".venv",
   "language": "python",
   "name": "python3"
  },
  "language_info": {
   "codemirror_mode": {
    "name": "ipython",
    "version": 3
   },
   "file_extension": ".py",
   "mimetype": "text/x-python",
   "name": "python",
   "nbconvert_exporter": "python",
   "pygments_lexer": "ipython3",
   "version": "3.12.10"
  }
 },
 "nbformat": 4,
 "nbformat_minor": 5
}
