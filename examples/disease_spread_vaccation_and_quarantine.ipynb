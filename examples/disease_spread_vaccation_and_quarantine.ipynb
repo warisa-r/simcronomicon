{
 "cells": [
  {
   "cell_type": "markdown",
   "id": "d4c10cac",
   "metadata": {},
   "source": [
    "# Advanced SEIQRDV disease spread model tutorial\n",
    "\n",
    "In this tutorial, we'll explore the advanced SEIQRDV compartmental model which extends SEIR with:\n",
    "- **Quarantine (Q)**: Movement restrictions for symptomatic individuals\n",
    "- **Death (D)**: Disease-related mortality\n",
    "- **Vaccination (V)**: Protective immunity through vaccination\n",
    "\n",
    "We'll learn:\n",
    "1. How SEIQRDV differs from basic SEIR\n",
    "2. How to set up vaccination scenarios\n",
    "3. How parameters affect disease outcomes\n",
    "4. How to analyze vaccination effectiveness\n",
    "\n",
    "**This tutorial focuses on practical usage and parameter effects. For implementation details, see our documentation.**"
   ]
  },
  {
   "cell_type": "code",
   "execution_count": 25,
   "id": "ba79ecc0",
   "metadata": {},
   "outputs": [],
   "source": [
    "import simcronomicon as scon\n",
    "import numpy as np\n",
    "import plotly.graph_objects as go\n",
    "import h5py"
   ]
  },
  {
   "cell_type": "markdown",
   "id": "cedaf8ec",
   "metadata": {},
   "source": [
    "## Understanding the SEIQRDV Compartmental Model\n",
    "\n",
    "The SEIQRDV model extends SEIR with three crucial additions:\n",
    "\n",
    "### New Compartments\n",
    "- **Q - Quarantined**: Symptomatic individuals with restricted movement\n",
    "- **D - Dead**: Disease-related deaths (tracked but removed from simulation)  \n",
    "- **V - Vaccinated**: Immune individuals through vaccination\n",
    "\n",
    "### Key Features\n",
    "- **Priority Places**: Agents actively seek healthcare facilities for vaccination\n",
    "- **Vaccination Queues**: Limited hospital capacity creates realistic bottlenecks\n",
    "- **Population Dynamics**: Births/migration and natural deaths\n",
    "- **Quarantine Behavior**: Infectious agents have restricted movement patterns"
   ]
  },
  {
   "cell_type": "code",
   "execution_count": 26,
   "id": "485c22c8",
   "metadata": {},
   "outputs": [
    {
     "name": "stdout",
     "output_type": "stream",
     "text": [
      "[1/3] Decompressing the graphmlz file...\n",
      "[2/3] Load the metadata...\n",
      "[3/3] Rebuild the town object...\n",
      "Town graph successfully built from input files!\n"
     ]
    }
   ],
   "source": [
    "# Let's start the simulation at Uniklinik this time!\n",
    "town_graph_path = \"../test/test_data/uniklinik_500m.graphmlz\"\n",
    "town_config_path = \"../test/test_data/uniklinik_500m_config.json\"\n",
    "town_params = scon.TownParameters(100, 20)  # Dummy\n",
    "town = scon.Town.from_files(config_path=town_config_path, town_graph_path= town_graph_path, town_params=town_params)"
   ]
  },
  {
   "cell_type": "markdown",
   "id": "09449026",
   "metadata": {},
   "source": [
    "Because you can only get vaccinated at hospitals or healthcare facilities, let's see how many of them are there in the current area of interest!\n",
    "\n",
    "Looking at the plot you can see that there are **4 healthcare facilities**."
   ]
  },
  {
   "cell_type": "code",
   "execution_count": 27,
   "id": "6225a111",
   "metadata": {},
   "outputs": [
    {
     "data": {
      "text/html": [
       "<div>            <script src=\"https://cdnjs.cloudflare.com/ajax/libs/mathjax/2.7.5/MathJax.js?config=TeX-AMS-MML_SVG\"></script><script type=\"text/javascript\">if (window.MathJax && window.MathJax.Hub && window.MathJax.Hub.Config) {window.MathJax.Hub.Config({SVG: {font: \"STIX-Web\"}});}</script>                    <div id=\"63e57c4d-68b0-4b04-990c-44401a12a303\" class=\"plotly-graph-div\" style=\"height:700px; width:100%;\"></div>            <script type=\"text/javascript\">                window.PLOTLYENV=window.PLOTLYENV || {};                                if (document.getElementById(\"63e57c4d-68b0-4b04-990c-44401a12a303\")) {                    Plotly.newPlot(                        \"63e57c4d-68b0-4b04-990c-44401a12a303\",                        [{\"customdata\":{\"dtype\":\"i1\",\"bdata\":\"ABUmMDEzNz9DREZH\",\"shape\":\"12, 1\"},\"hovertemplate\":\"place_type=education\\u003cbr\\u003elat=%{lat}\\u003cbr\\u003elon=%{lon}\\u003cbr\\u003enode_id=%{customdata[0]}\\u003cextra\\u003e\\u003c\\u002fextra\\u003e\",\"lat\":{\"dtype\":\"f8\",\"bdata\":\"dFqjctNjSUCJofTkm2NJQErtKm57Y0lAu4vUGHdjSUCq0ZMDf2NJQCj9C+acY0lA7sjptB1jSUBiaDJ2WmNJQO33PgqQY0lAkuwKsnZjSUCx0pRFlGNJQFHiDmCcY0lA\"},\"legendgroup\":\"education\",\"lon\":{\"dtype\":\"f8\",\"bdata\":\"k4jKa1Q0GEDKEodB2jEYQP01oCS0MBhAUH8y3xQ0GECkHysRDDMYQJxBoLO7MhhA0UO50C0xGECsDFKBjjMYQGL3XFwfMxhAInrkm+kxGECw\\u002fOfQwDAYQOueKGPYLhhA\"},\"marker\":{\"color\":\"#636efa\",\"opacity\":0.8,\"size\":9},\"mode\":\"markers\",\"name\":\"education\",\"showlegend\":true,\"subplot\":\"map\",\"type\":\"scattermap\"},{\"customdata\":{\"dtype\":\"i1\",\"bdata\":\"AQIDBAUGBwgJCgsMDQ4PEBESExQWFxgZGxwdHh8hIiMlJykqKywtLjI0Njg5Ojs8PT5AQUVJSktMTQ==\",\"shape\":\"58, 1\"},\"hovertemplate\":\"place_type=accommodation\\u003cbr\\u003elat=%{lat}\\u003cbr\\u003elon=%{lon}\\u003cbr\\u003enode_id=%{customdata[0]}\\u003cextra\\u003e\\u003c\\u002fextra\\u003e\",\"lat\":{\"dtype\":\"f8\",\"bdata\":\"+F9uOftiSUCqh5GO9WJJQE44G0TeYklArjgC2b9iSUDHi8NX1GJJQJ\\u002fMg3wjY0lAXnr738diSUBFxNGz2mJJQH76RYz8YklAuETK9\\u002fxiSUBMy39E3mJJQHMXGNAeY0lAeXFPTgljSUCwVmyZ82JJQAO30r\\u002ftYklAR6Sob\\u002ftiSUB1XewP92JJQMyRK48kY0lAoesnVQ1jSUA4DfVKAGNJQP1deabKYklAjzhyQO5iSUAzNV+Z32JJQBejRBzZYklA\\u002fYVkQ9ViSUAxyxz32mJJQCZzy97xYklAbHerDvtiSUCNhgEvuWJJQKSwa2a5YklAoG0J4fdiSUDPGf0b\\u002f2JJQD8Nl9onY0lA62ojpxxjSUDUQ\\u002fkyD2NJQF44v6u4YklA3BR15p5jSUCDEAQnCmNJQBpCVn4ZY0lARu9I3gBjSUAheeM2PGNJQJofJ+rwYklAfSd9yPRiSUDCZRj35WJJQAAebwjtYklANlliSgBjSUBK4WVb12JJQIoKSN8kY0lAxgUeLbxiSUB7Y9iE\\u002f2JJQDXHPWkqY0lA84bitCRjSUDK0iRkE2NJQMBHRzcJY0lAms9T8RZjSUDbPEslG2NJQLSzqUMEY0lAD8SNdxljSUA=\"},\"legendgroup\":\"accommodation\",\"lon\":{\"dtype\":\"f8\",\"bdata\":\"fjYgcwgpGEB4HnW9fikYQN5jDrKyKBhA8hnxpX4nGECEELkDLSkYQEdJv\\u002fSnJxhA2QCsQ0AnGEA9bcGHJykYQGrTBlW6KxhA8ZfTqu4rGEDdDgoSHigYQBNCFcJrKBhAV1vjRNUnGECkrXgBFSwYQPxreokSLBhAYSVkjRssGECMyCFAGywYQFNgkcVHKRhAnx\\u002fgU9AoGEC9yn54FikYQMoSE8rwJhhA7aSLIRwrGEBw\\u002f27hkC0YQGoNYJApLhhAvQ1wX3cnGEDO+GIanScYQAvxN3dpKhhA+P39+F4qGEAZFitqViwYQLYyF4QZLBhASvIok9knGED3bObUricYQFAj7OCzJxhAUlinc6gnGECw+QS80ycYQN8gtKMDKRhA6dfV5CkrGEAcDbsutykYQB8sa5viKRhAOtyY1gMrGEAWHbFvqDUYQPWdqon1KRhACzZ2c8ctGECrsrA5HC4YQBGixDRwLRhAMApTZXwtGEDmmE5\\u002fyi0YQHou3fzQKhhADgHu+PImGEBkZT9sUSsYQJcYkfCcNRhABV+TntgpGEB1q6GXsioYQExMDF1SLRhAgpay2Wk1GEAPOMxAfzUYQGBF2\\u002fxuKhhAX2lkxjYqGEA=\"},\"marker\":{\"color\":\"#EF553B\",\"opacity\":0.8,\"size\":9},\"mode\":\"markers\",\"name\":\"accommodation\",\"showlegend\":true,\"subplot\":\"map\",\"type\":\"scattermap\"},{\"customdata\":{\"dtype\":\"i1\",\"bdata\":\"GiAoNQ==\",\"shape\":\"4, 1\"},\"hovertemplate\":\"place_type=healthcare_facility\\u003cbr\\u003elat=%{lat}\\u003cbr\\u003elon=%{lon}\\u003cbr\\u003enode_id=%{customdata[0]}\\u003cextra\\u003e\\u003c\\u002fextra\\u003e\",\"lat\":{\"dtype\":\"f8\",\"bdata\":\"w0vrvh5jSUDup2XPcGNJQNyJivrbYklAuLLvzwljSUA=\"},\"legendgroup\":\"healthcare_facility\",\"lon\":{\"dtype\":\"f8\",\"bdata\":\"P62mKBYsGECg\\u002fWJzaCwYQE6b2DjrLBhA5NdtcvIrGEA=\"},\"marker\":{\"color\":\"#00cc96\",\"opacity\":0.8,\"size\":9},\"mode\":\"markers\",\"name\":\"healthcare_facility\",\"showlegend\":true,\"subplot\":\"map\",\"type\":\"scattermap\"},{\"customdata\":{\"dtype\":\"i1\",\"bdata\":\"JA==\",\"shape\":\"1, 1\"},\"hovertemplate\":\"place_type=workplace\\u003cbr\\u003elat=%{lat}\\u003cbr\\u003elon=%{lon}\\u003cbr\\u003enode_id=%{customdata[0]}\\u003cextra\\u003e\\u003c\\u002fextra\\u003e\",\"lat\":{\"dtype\":\"f8\",\"bdata\":\"9nIQx0NjSUA=\"},\"legendgroup\":\"workplace\",\"lon\":{\"dtype\":\"f8\",\"bdata\":\"o6VXNuUyGEA=\"},\"marker\":{\"color\":\"#ab63fa\",\"opacity\":0.8,\"size\":9},\"mode\":\"markers\",\"name\":\"workplace\",\"showlegend\":true,\"subplot\":\"map\",\"type\":\"scattermap\"},{\"customdata\":{\"dtype\":\"i1\",\"bdata\":\"L0g=\",\"shape\":\"2, 1\"},\"hovertemplate\":\"place_type=commercial\\u003cbr\\u003elat=%{lat}\\u003cbr\\u003elon=%{lon}\\u003cbr\\u003enode_id=%{customdata[0]}\\u003cextra\\u003e\\u003c\\u002fextra\\u003e\",\"lat\":{\"dtype\":\"f8\",\"bdata\":\"KLUEJqdjSUDNmYdbwGJJQA==\"},\"legendgroup\":\"commercial\",\"lon\":{\"dtype\":\"f8\",\"bdata\":\"4SrEgtMwGEClu9S9ZCoYQA==\"},\"marker\":{\"color\":\"#FFA15A\",\"opacity\":0.8,\"size\":9},\"mode\":\"markers\",\"name\":\"commercial\",\"showlegend\":true,\"subplot\":\"map\",\"type\":\"scattermap\"},{\"customdata\":{\"dtype\":\"i1\",\"bdata\":\"Qg==\",\"shape\":\"1, 1\"},\"hovertemplate\":\"place_type=religious\\u003cbr\\u003elat=%{lat}\\u003cbr\\u003elon=%{lon}\\u003cbr\\u003enode_id=%{customdata[0]}\\u003cextra\\u003e\\u003c\\u002fextra\\u003e\",\"lat\":{\"dtype\":\"f8\",\"bdata\":\"ZQsFmNtiSUA=\"},\"legendgroup\":\"religious\",\"lon\":{\"dtype\":\"f8\",\"bdata\":\"wE84l04qGEA=\"},\"marker\":{\"color\":\"#19d3f3\",\"opacity\":0.8,\"size\":9},\"mode\":\"markers\",\"name\":\"religious\",\"showlegend\":true,\"subplot\":\"map\",\"type\":\"scattermap\"}],                        {\"template\":{\"data\":{\"histogram2dcontour\":[{\"type\":\"histogram2dcontour\",\"colorbar\":{\"outlinewidth\":0,\"ticks\":\"\"},\"colorscale\":[[0.0,\"#0d0887\"],[0.1111111111111111,\"#46039f\"],[0.2222222222222222,\"#7201a8\"],[0.3333333333333333,\"#9c179e\"],[0.4444444444444444,\"#bd3786\"],[0.5555555555555556,\"#d8576b\"],[0.6666666666666666,\"#ed7953\"],[0.7777777777777778,\"#fb9f3a\"],[0.8888888888888888,\"#fdca26\"],[1.0,\"#f0f921\"]]}],\"choropleth\":[{\"type\":\"choropleth\",\"colorbar\":{\"outlinewidth\":0,\"ticks\":\"\"}}],\"histogram2d\":[{\"type\":\"histogram2d\",\"colorbar\":{\"outlinewidth\":0,\"ticks\":\"\"},\"colorscale\":[[0.0,\"#0d0887\"],[0.1111111111111111,\"#46039f\"],[0.2222222222222222,\"#7201a8\"],[0.3333333333333333,\"#9c179e\"],[0.4444444444444444,\"#bd3786\"],[0.5555555555555556,\"#d8576b\"],[0.6666666666666666,\"#ed7953\"],[0.7777777777777778,\"#fb9f3a\"],[0.8888888888888888,\"#fdca26\"],[1.0,\"#f0f921\"]]}],\"heatmap\":[{\"type\":\"heatmap\",\"colorbar\":{\"outlinewidth\":0,\"ticks\":\"\"},\"colorscale\":[[0.0,\"#0d0887\"],[0.1111111111111111,\"#46039f\"],[0.2222222222222222,\"#7201a8\"],[0.3333333333333333,\"#9c179e\"],[0.4444444444444444,\"#bd3786\"],[0.5555555555555556,\"#d8576b\"],[0.6666666666666666,\"#ed7953\"],[0.7777777777777778,\"#fb9f3a\"],[0.8888888888888888,\"#fdca26\"],[1.0,\"#f0f921\"]]}],\"contourcarpet\":[{\"type\":\"contourcarpet\",\"colorbar\":{\"outlinewidth\":0,\"ticks\":\"\"}}],\"contour\":[{\"type\":\"contour\",\"colorbar\":{\"outlinewidth\":0,\"ticks\":\"\"},\"colorscale\":[[0.0,\"#0d0887\"],[0.1111111111111111,\"#46039f\"],[0.2222222222222222,\"#7201a8\"],[0.3333333333333333,\"#9c179e\"],[0.4444444444444444,\"#bd3786\"],[0.5555555555555556,\"#d8576b\"],[0.6666666666666666,\"#ed7953\"],[0.7777777777777778,\"#fb9f3a\"],[0.8888888888888888,\"#fdca26\"],[1.0,\"#f0f921\"]]}],\"surface\":[{\"type\":\"surface\",\"colorbar\":{\"outlinewidth\":0,\"ticks\":\"\"},\"colorscale\":[[0.0,\"#0d0887\"],[0.1111111111111111,\"#46039f\"],[0.2222222222222222,\"#7201a8\"],[0.3333333333333333,\"#9c179e\"],[0.4444444444444444,\"#bd3786\"],[0.5555555555555556,\"#d8576b\"],[0.6666666666666666,\"#ed7953\"],[0.7777777777777778,\"#fb9f3a\"],[0.8888888888888888,\"#fdca26\"],[1.0,\"#f0f921\"]]}],\"mesh3d\":[{\"type\":\"mesh3d\",\"colorbar\":{\"outlinewidth\":0,\"ticks\":\"\"}}],\"scatter\":[{\"fillpattern\":{\"fillmode\":\"overlay\",\"size\":10,\"solidity\":0.2},\"type\":\"scatter\"}],\"parcoords\":[{\"type\":\"parcoords\",\"line\":{\"colorbar\":{\"outlinewidth\":0,\"ticks\":\"\"}}}],\"scatterpolargl\":[{\"type\":\"scatterpolargl\",\"marker\":{\"colorbar\":{\"outlinewidth\":0,\"ticks\":\"\"}}}],\"bar\":[{\"error_x\":{\"color\":\"#2a3f5f\"},\"error_y\":{\"color\":\"#2a3f5f\"},\"marker\":{\"line\":{\"color\":\"#E5ECF6\",\"width\":0.5},\"pattern\":{\"fillmode\":\"overlay\",\"size\":10,\"solidity\":0.2}},\"type\":\"bar\"}],\"scattergeo\":[{\"type\":\"scattergeo\",\"marker\":{\"colorbar\":{\"outlinewidth\":0,\"ticks\":\"\"}}}],\"scatterpolar\":[{\"type\":\"scatterpolar\",\"marker\":{\"colorbar\":{\"outlinewidth\":0,\"ticks\":\"\"}}}],\"histogram\":[{\"marker\":{\"pattern\":{\"fillmode\":\"overlay\",\"size\":10,\"solidity\":0.2}},\"type\":\"histogram\"}],\"scattergl\":[{\"type\":\"scattergl\",\"marker\":{\"colorbar\":{\"outlinewidth\":0,\"ticks\":\"\"}}}],\"scatter3d\":[{\"type\":\"scatter3d\",\"line\":{\"colorbar\":{\"outlinewidth\":0,\"ticks\":\"\"}},\"marker\":{\"colorbar\":{\"outlinewidth\":0,\"ticks\":\"\"}}}],\"scattermap\":[{\"type\":\"scattermap\",\"marker\":{\"colorbar\":{\"outlinewidth\":0,\"ticks\":\"\"}}}],\"scattermapbox\":[{\"type\":\"scattermapbox\",\"marker\":{\"colorbar\":{\"outlinewidth\":0,\"ticks\":\"\"}}}],\"scatterternary\":[{\"type\":\"scatterternary\",\"marker\":{\"colorbar\":{\"outlinewidth\":0,\"ticks\":\"\"}}}],\"scattercarpet\":[{\"type\":\"scattercarpet\",\"marker\":{\"colorbar\":{\"outlinewidth\":0,\"ticks\":\"\"}}}],\"carpet\":[{\"aaxis\":{\"endlinecolor\":\"#2a3f5f\",\"gridcolor\":\"white\",\"linecolor\":\"white\",\"minorgridcolor\":\"white\",\"startlinecolor\":\"#2a3f5f\"},\"baxis\":{\"endlinecolor\":\"#2a3f5f\",\"gridcolor\":\"white\",\"linecolor\":\"white\",\"minorgridcolor\":\"white\",\"startlinecolor\":\"#2a3f5f\"},\"type\":\"carpet\"}],\"table\":[{\"cells\":{\"fill\":{\"color\":\"#EBF0F8\"},\"line\":{\"color\":\"white\"}},\"header\":{\"fill\":{\"color\":\"#C8D4E3\"},\"line\":{\"color\":\"white\"}},\"type\":\"table\"}],\"barpolar\":[{\"marker\":{\"line\":{\"color\":\"#E5ECF6\",\"width\":0.5},\"pattern\":{\"fillmode\":\"overlay\",\"size\":10,\"solidity\":0.2}},\"type\":\"barpolar\"}],\"pie\":[{\"automargin\":true,\"type\":\"pie\"}]},\"layout\":{\"autotypenumbers\":\"strict\",\"colorway\":[\"#636efa\",\"#EF553B\",\"#00cc96\",\"#ab63fa\",\"#FFA15A\",\"#19d3f3\",\"#FF6692\",\"#B6E880\",\"#FF97FF\",\"#FECB52\"],\"font\":{\"color\":\"#2a3f5f\"},\"hovermode\":\"closest\",\"hoverlabel\":{\"align\":\"left\"},\"paper_bgcolor\":\"white\",\"plot_bgcolor\":\"#E5ECF6\",\"polar\":{\"bgcolor\":\"#E5ECF6\",\"angularaxis\":{\"gridcolor\":\"white\",\"linecolor\":\"white\",\"ticks\":\"\"},\"radialaxis\":{\"gridcolor\":\"white\",\"linecolor\":\"white\",\"ticks\":\"\"}},\"ternary\":{\"bgcolor\":\"#E5ECF6\",\"aaxis\":{\"gridcolor\":\"white\",\"linecolor\":\"white\",\"ticks\":\"\"},\"baxis\":{\"gridcolor\":\"white\",\"linecolor\":\"white\",\"ticks\":\"\"},\"caxis\":{\"gridcolor\":\"white\",\"linecolor\":\"white\",\"ticks\":\"\"}},\"coloraxis\":{\"colorbar\":{\"outlinewidth\":0,\"ticks\":\"\"}},\"colorscale\":{\"sequential\":[[0.0,\"#0d0887\"],[0.1111111111111111,\"#46039f\"],[0.2222222222222222,\"#7201a8\"],[0.3333333333333333,\"#9c179e\"],[0.4444444444444444,\"#bd3786\"],[0.5555555555555556,\"#d8576b\"],[0.6666666666666666,\"#ed7953\"],[0.7777777777777778,\"#fb9f3a\"],[0.8888888888888888,\"#fdca26\"],[1.0,\"#f0f921\"]],\"sequentialminus\":[[0.0,\"#0d0887\"],[0.1111111111111111,\"#46039f\"],[0.2222222222222222,\"#7201a8\"],[0.3333333333333333,\"#9c179e\"],[0.4444444444444444,\"#bd3786\"],[0.5555555555555556,\"#d8576b\"],[0.6666666666666666,\"#ed7953\"],[0.7777777777777778,\"#fb9f3a\"],[0.8888888888888888,\"#fdca26\"],[1.0,\"#f0f921\"]],\"diverging\":[[0,\"#8e0152\"],[0.1,\"#c51b7d\"],[0.2,\"#de77ae\"],[0.3,\"#f1b6da\"],[0.4,\"#fde0ef\"],[0.5,\"#f7f7f7\"],[0.6,\"#e6f5d0\"],[0.7,\"#b8e186\"],[0.8,\"#7fbc41\"],[0.9,\"#4d9221\"],[1,\"#276419\"]]},\"xaxis\":{\"gridcolor\":\"white\",\"linecolor\":\"white\",\"ticks\":\"\",\"title\":{\"standoff\":15},\"zerolinecolor\":\"white\",\"automargin\":true,\"zerolinewidth\":2},\"yaxis\":{\"gridcolor\":\"white\",\"linecolor\":\"white\",\"ticks\":\"\",\"title\":{\"standoff\":15},\"zerolinecolor\":\"white\",\"automargin\":true,\"zerolinewidth\":2},\"scene\":{\"xaxis\":{\"backgroundcolor\":\"#E5ECF6\",\"gridcolor\":\"white\",\"linecolor\":\"white\",\"showbackground\":true,\"ticks\":\"\",\"zerolinecolor\":\"white\",\"gridwidth\":2},\"yaxis\":{\"backgroundcolor\":\"#E5ECF6\",\"gridcolor\":\"white\",\"linecolor\":\"white\",\"showbackground\":true,\"ticks\":\"\",\"zerolinecolor\":\"white\",\"gridwidth\":2},\"zaxis\":{\"backgroundcolor\":\"#E5ECF6\",\"gridcolor\":\"white\",\"linecolor\":\"white\",\"showbackground\":true,\"ticks\":\"\",\"zerolinecolor\":\"white\",\"gridwidth\":2}},\"shapedefaults\":{\"line\":{\"color\":\"#2a3f5f\"}},\"annotationdefaults\":{\"arrowcolor\":\"#2a3f5f\",\"arrowhead\":0,\"arrowwidth\":1},\"geo\":{\"bgcolor\":\"white\",\"landcolor\":\"#E5ECF6\",\"subunitcolor\":\"white\",\"showland\":true,\"showlakes\":true,\"lakecolor\":\"white\"},\"title\":{\"x\":0.05},\"mapbox\":{\"style\":\"light\"}}},\"map\":{\"domain\":{\"x\":[0.0,1.0],\"y\":[0.0,1.0]},\"center\":{\"lat\":50.774042215029546,\"lon\":6.043261403592059},\"zoom\":14},\"legend\":{\"title\":{\"text\":\"Place Type\"},\"tracegroupgap\":0},\"margin\":{\"t\":50,\"r\":0,\"l\":0,\"b\":0},\"height\":700,\"mapbox\":{\"center\":{\"lat\":50.774042215029546,\"lon\":6.043261403592059},\"zoom\":14,\"style\":\"open-street-map\"},\"title\":{\"text\":\"Town Graph Nodes by Place Type\"}},                        {\"responsive\": true}                    ).then(function(){\n",
       "                            \n",
       "var gd = document.getElementById('63e57c4d-68b0-4b04-990c-44401a12a303');\n",
       "var x = new MutationObserver(function (mutations, observer) {{\n",
       "        var display = window.getComputedStyle(gd).display;\n",
       "        if (!display || display === 'none') {{\n",
       "            console.log([gd, 'removed!']);\n",
       "            Plotly.purge(gd);\n",
       "            observer.disconnect();\n",
       "        }}\n",
       "}});\n",
       "\n",
       "// Listen for the removal of the full notebook cells\n",
       "var notebookContainer = gd.closest('#notebook-container');\n",
       "if (notebookContainer) {{\n",
       "    x.observe(notebookContainer, {childList: true});\n",
       "}}\n",
       "\n",
       "// Listen for the clearing of the current output cell\n",
       "var outputEl = gd.closest('.output');\n",
       "if (outputEl) {{\n",
       "    x.observe(outputEl, {childList: true});\n",
       "}}\n",
       "\n",
       "                        })                };            </script>        </div>"
      ]
     },
     "metadata": {},
     "output_type": "display_data"
    }
   ],
   "source": [
    "# Show the town with healthcare facilities highlighted\n",
    "scon.visualize_place_types_from_graphml(town_graph_path, town_config_path)"
   ]
  },
  {
   "cell_type": "markdown",
   "id": "e42d3108",
   "metadata": {},
   "source": [
    "And then let's discuss the model parameters...\n",
    "\n",
    "## Understanding SEIQRDV Model Parameters\n",
    "\n",
    "The SEIQRDV model has many parameters that control different aspects of disease spread, vaccination, and population dynamics. Let's explore each one:\n",
    "\n",
    "### Core Disease Parameters (from SEIR)\n",
    "- **beta (β)**: Transmission rate - how likely infection spreads between agents\n",
    "- **gamma**: Incubation period - days from exposure to becoming infectious \n",
    "- **max_energy**: Agent energy levels affecting movement patterns\n",
    "\n",
    "### New SEIQRDV Parameters\n",
    "- **alpha (α)**: Vaccination desire rate (0-1) - probability agents seek vaccines daily\n",
    "- **delta (δ)**: Days until quarantine after becoming infectious\n",
    "- **lam (λ)**: Recovery time in quarantine (days)\n",
    "- **rho (ρ)**: Time to death in quarantine (days) \n",
    "- **kappa (κ)**: Disease mortality rate (0-1) - fraction who die vs recover\n",
    "- **hospital_capacity**: Maximum vaccines per healthcare facility per day\n",
    "\n",
    "### Population Dynamics Parameters  \n",
    "- **lam_cap**: Population growth rate (births/migration)\n",
    "- **mu**: Natural death rate (non-disease deaths)\n",
    "\n",
    "Let's demonstrate how these work with practical examples!"
   ]
  },
  {
   "cell_type": "markdown",
   "id": "e604c507",
   "metadata": {},
   "source": [
    "## Vaccination System Demonstration\n",
    "\n",
    "Let's see how vaccination works by setting **alpha = 1.0**. Vaccination works by setting every agent's `want_vaccine` attribute to `True` (everyone wants vaccines) and add to their attribute of type `list` called `priority_place` a place they can get vaccinated or places with `place_type` `healthcare_facility`. \n",
    "\n",
    "With all of that said we will see what happen in the first day of a town where everyone wants vaccine and they only go out once per day:"
   ]
  },
  {
   "cell_type": "code",
   "execution_count": 28,
   "id": "895dbd3d",
   "metadata": {},
   "outputs": [
    {
     "name": "stdout",
     "output_type": "stream",
     "text": [
      "[1/3] Decompressing the graphmlz file...\n",
      "[2/3] Load the metadata...\n",
      "[3/3] Rebuild the town object...\n",
      "Town graph successfully built from input files!\n",
      "Step has been run 1\n",
      "Status: {'S': 82, 'E': 0, 'Q': 0, 'I': 1, 'R': 0, 'D': 0, 'V': 17}\n",
      "VACCINATION QUEUE ANALYSIS\n",
      "==================================================\n",
      "Healthcare facilities in town: [26, 32, 40, 53]\n",
      "Total healthcare facilities: 4\n",
      "\n",
      "People seeking vaccination at each facility:\n",
      "  Node 26: 14 people\n",
      "  Node 32: 2 people\n",
      "  Node 40: 51 people\n",
      "  Node 53: 22 people\n",
      "\n",
      "Total people seeking vaccines: 89\n",
      "People actually vaccinated: 17\n",
      "Hospital capacity per facility: 5\n",
      "Total possible vaccines today: 4 × 5 = 20\n",
      "Bottleneck: 72 people couldn't get vaccines due to capacity limits and healthcare facilities nearest to them being too crowded!\n",
      "\n",
      "Facility utilization:\n",
      "  Node 26: 5/5 vaccines used (14 wanted)\n",
      "  Node 32: 2/5 vaccines used (2 wanted)\n",
      "  Node 40: 5/5 vaccines used (51 wanted)\n",
      "  Node 53: 5/5 vaccines used (22 wanted)\n"
     ]
    }
   ],
   "source": [
    "town_params = scon.TownParameters(100, 1)\n",
    "town = scon.Town.from_files(config_path=town_config_path, town_graph_path= town_graph_path, town_params=town_params)\n",
    "\n",
    "step_events = [\n",
    "    scon.StepEvent(\n",
    "        \"do_something\",\n",
    "        scon.FolkSEIQRDV.interact,\n",
    "        scon.EventType.DISPERSE,\n",
    "        9000,\n",
    "        ['accommodation']\n",
    "    )\n",
    "]\n",
    "\n",
    "# Test vaccination with maximum desire (alpha = 1.0) and limited capacity\n",
    "test_params = scon.SEIQRDVModelParameters(\n",
    "    max_energy=5,\n",
    "    lam_cap=0.0,         # No population growth for this test\n",
    "    beta=0.0,            # No transmission for this test  \n",
    "    alpha=1.0,           # 100% want vaccination!\n",
    "    gamma=4,             # Standard incubation\n",
    "    delta=5,             # Standard quarantine delay\n",
    "    lam=7,               # Recovery time in quarantine\n",
    "    rho=7,               # Time to death in quarantine\n",
    "    kappa=0.1,           # 10% mortality rate\n",
    "    mu=0.0,              # No natural deaths for this test\n",
    "    hospital_capacity=5   # Limited capacity: only 5 vaccines per facility per day\n",
    ")\n",
    "\n",
    "test_model = scon.SEIQRDVModel(test_params, step_events)\n",
    "test_sim = scon.Simulation(town, test_model, 1)  # Just 1 day\n",
    "test_sim.run()\n",
    "\n",
    "print(\"VACCINATION QUEUE ANALYSIS\")\n",
    "print(\"=\" * 50)\n",
    "\n",
    "# Find healthcare facilities from the town object\n",
    "healthcare_nodes = []\n",
    "for node, data in town.town_graph.nodes(data=True):\n",
    "    if data.get('place_type') == 'healthcare_facility':\n",
    "        healthcare_nodes.append(node)\n",
    "\n",
    "print(f\"Healthcare facilities in town: {healthcare_nodes}\")\n",
    "print(f\"Total healthcare facilities: {len(healthcare_nodes)}\")\n",
    "\n",
    "with h5py.File(\"simulation_output.h5\", \"r\") as h5file:\n",
    "    log = h5file[\"individual_logs/log\"][:]\n",
    "    summary = h5file[\"status_summary/summary\"][:]\n",
    "    \n",
    "    # Look at the first step event (morning_routine)\n",
    "    first_event = log[(log['timestep'] == 1) & (log['event'] == b\"do_something\")]\n",
    "    \n",
    "    # Count people at each healthcare facility\n",
    "    healthcare_visitors = {}\n",
    "    for node in healthcare_nodes:\n",
    "        healthcare_visitors[node] = 0\n",
    "    \n",
    "    for row in first_event:\n",
    "        if row['status'] != b'I':  # Only non-infectious can seek vaccines\n",
    "            node = row['address']\n",
    "            if node in healthcare_nodes:\n",
    "                healthcare_visitors[node] += 1\n",
    "    \n",
    "    print(\"\\nPeople seeking vaccination at each facility:\")\n",
    "    total_seeking = 0\n",
    "    for node, count in healthcare_visitors.items():\n",
    "        print(f\"  Node {node}: {count} people\")\n",
    "        total_seeking += count\n",
    "    \n",
    "    print(f\"\\nTotal people seeking vaccines: {total_seeking}\")\n",
    "    \n",
    "    # Check how many actually got vaccinated\n",
    "    final_status = summary[-1]\n",
    "    vaccinated = final_status['V']\n",
    "    \n",
    "    print(f\"People actually vaccinated: {vaccinated}\")\n",
    "    print(f\"Hospital capacity per facility: {test_params.hospital_capacity}\")\n",
    "    print(f\"Total possible vaccines today: {len(healthcare_nodes)} × {test_params.hospital_capacity} = {len(healthcare_nodes) * test_params.hospital_capacity}\")\n",
    "    \n",
    "    if vaccinated < total_seeking:\n",
    "        print(f\"Bottleneck: {total_seeking - vaccinated} people couldn't get vaccines due to capacity limits and healthcare facilities nearest to them being too crowded!\")\n",
    "    else:\n",
    "        print(\"All vaccine seekers were served!\")\n",
    "    \n",
    "    # Show which facilities were at capacity\n",
    "    print(f\"\\nFacility utilization:\")\n",
    "    for node, visitors in healthcare_visitors.items():\n",
    "        capacity = test_params.hospital_capacity\n",
    "        utilization = min(visitors, capacity)\n",
    "        if visitors > 0:\n",
    "            print(f\"  Node {node}: {utilization}/{capacity} vaccines used ({visitors} wanted)\")"
   ]
  },
  {
   "cell_type": "markdown",
   "id": "354e455b",
   "metadata": {},
   "source": [
    "With no spreader at all, if you let the simulation runs on for a couple steps more, you can see that people who wanted vaccine and got them wouldn't go to the hospital anymore and others who want the vaccine will get to also have their turn."
   ]
  },
  {
   "cell_type": "code",
   "execution_count": 29,
   "id": "4120b968",
   "metadata": {},
   "outputs": [
    {
     "name": "stdout",
     "output_type": "stream",
     "text": [
      "Step has been run 1\n",
      "Status: {'S': 82, 'E': 0, 'Q': 0, 'I': 1, 'R': 0, 'D': 0, 'V': 17}\n",
      "Step has been run 2\n",
      "Status: {'S': 67, 'E': 0, 'Q': 0, 'I': 1, 'R': 0, 'D': 0, 'V': 32}\n",
      "Step has been run 3\n",
      "Status: {'S': 55, 'E': 0, 'Q': 0, 'I': 1, 'R': 0, 'D': 0, 'V': 44}\n",
      "Step has been run 4\n",
      "Status: {'S': 42, 'E': 0, 'Q': 0, 'I': 1, 'R': 0, 'D': 0, 'V': 57}\n",
      "Step has been run 5\n",
      "Status: {'S': 32, 'E': 0, 'Q': 1, 'I': 0, 'R': 0, 'D': 0, 'V': 67}\n",
      "Step has been run 6\n",
      "Status: {'S': 27, 'E': 0, 'Q': 1, 'I': 0, 'R': 0, 'D': 0, 'V': 72}\n",
      "Step has been run 7\n",
      "Status: {'S': 22, 'E': 0, 'Q': 1, 'I': 0, 'R': 0, 'D': 0, 'V': 77}\n",
      "Step has been run 8\n",
      "Status: {'S': 17, 'E': 0, 'Q': 1, 'I': 0, 'R': 0, 'D': 0, 'V': 82}\n",
      "Step has been run 9\n",
      "Status: {'S': 12, 'E': 0, 'Q': 1, 'I': 0, 'R': 0, 'D': 0, 'V': 87}\n",
      "Step has been run 10\n",
      "Status: {'S': 7, 'E': 0, 'Q': 1, 'I': 0, 'R': 0, 'D': 0, 'V': 92}\n",
      "Step has been run 11\n",
      "Status: {'S': 3, 'E': 0, 'Q': 1, 'I': 0, 'R': 0, 'D': 0, 'V': 96}\n",
      "Step has been run 12\n",
      "Status: {'S': 0, 'E': 0, 'Q': 0, 'I': 0, 'R': 0, 'D': 1, 'V': 99}\n"
     ]
    }
   ],
   "source": [
    "test_sim_longer = scon.Simulation(town, test_model, timesteps=20)\n",
    "test_sim_longer.run()"
   ]
  },
  {
   "cell_type": "markdown",
   "id": "2887be95",
   "metadata": {},
   "source": [
    "## Population Dynamics: Deaths and Immigration\n",
    "\n",
    "Unlike basic SEIR models, SEIQRDV includes realistic population changes over time:\n",
    "\n",
    "### Types of Population Changes\n",
    "1. **Disease Deaths (D compartment)**: People die from the disease based on mortality rate (κ)\n",
    "2. **Natural Deaths (μ parameter)**: Background mortality affecting all compartments\n",
    "3. **Immigration/Births (λ_cap parameter)**: New susceptible people enter the population\n",
    "\n",
    "### How Population Updates Work\n",
    "- **Every timestep**: The model calls `update_population()` \n",
    "- **Natural deaths**: Each person has μ probability of dying (removed from simulation)\n",
    "- **Immigration**: New people added based on λ_cap rate (proportional to current population)\n",
    "- **Disease deaths**: Quarantined people die based on κ parameter and ρ timing\n",
    "\n",
    "Let's demonstrate these dynamics with controlled examples:"
   ]
  },
  {
   "cell_type": "markdown",
   "id": "37120c08",
   "metadata": {},
   "source": [
    "Test 1: High mortality disease with no immigration"
   ]
  },
  {
   "cell_type": "code",
   "execution_count": 30,
   "id": "5d403670",
   "metadata": {},
   "outputs": [
    {
     "name": "stdout",
     "output_type": "stream",
     "text": [
      "POPULATION DYNAMICS DEMONSTRATION\n",
      "==================================================\n",
      "\n",
      "1️. HIGH MORTALITY DISEASE (κ=1.0, no immigration)\n",
      "---------------------------------------------\n",
      "[1/3] Decompressing the graphmlz file...\n",
      "[2/3] Load the metadata...\n",
      "[3/3] Rebuild the town object...\n",
      "Town graph successfully built from input files!\n",
      "Step has been run 1\n",
      "Status: {'S': 0, 'E': 0, 'Q': 100, 'I': 0, 'R': 0, 'D': 0, 'V': 0}\n",
      "Step has been run 2\n",
      "Status: {'S': 0, 'E': 0, 'Q': 0, 'I': 0, 'R': 0, 'D': 100, 'V': 0}\n"
     ]
    }
   ],
   "source": [
    "print(\"POPULATION DYNAMICS DEMONSTRATION\")\n",
    "print(\"=\" * 50)\n",
    "\n",
    "# Create a fresh town for each test to avoid interference\n",
    "def create_fresh_town(num_pop = 100, num_spreader = 100):\n",
    "    return scon.Town.from_files(\n",
    "        config_path=town_config_path, \n",
    "        town_graph_path=town_graph_path, \n",
    "        town_params=scon.TownParameters(num_pop, num_spreader)\n",
    "    )\n",
    "print(\"\\n1️. HIGH MORTALITY DISEASE (κ=1.0, no immigration)\")\n",
    "print(\"-\" * 45)\n",
    "\n",
    "high_mortality_params = scon.SEIQRDVModelParameters(\n",
    "    max_energy=5,\n",
    "    lam_cap=0.0,         # No immigration\n",
    "    beta=1.0,            # No transmission for clear results\n",
    "    alpha=0.0,           # No vaccination\n",
    "    gamma=1,             # Quick progression\n",
    "    delta=1,             # Quick quarantine\n",
    "    lam=7,               # Doesn't matter (all die)\n",
    "    rho=1,               # Die after 2 days in quarantine\n",
    "    kappa=1.0,           # 100% mortality rate!\n",
    "    mu=0.0,              # No natural deaths\n",
    "    hospital_capacity=10\n",
    ")\n",
    "\n",
    "town_mortality = create_fresh_town()\n",
    "model_mortality = scon.SEIQRDVModel(high_mortality_params, step_events)\n",
    "sim_mortality = scon.Simulation(town_mortality, model_mortality, 2)\n",
    "sim_mortality.run()"
   ]
  },
  {
   "cell_type": "markdown",
   "id": "c727a4e0",
   "metadata": {},
   "source": [
    "Test 2: Immigration. Anyone who is mobile (not death or quarantine) can immigrate into the area of interest."
   ]
  },
  {
   "cell_type": "code",
   "execution_count": 31,
   "id": "8fc6a299",
   "metadata": {},
   "outputs": [
    {
     "name": "stdout",
     "output_type": "stream",
     "text": [
      "\n",
      "\n",
      "2️IMMIGRATION BALANCING DEATHS (λ_cap=0.05)\n",
      "---------------------------------------------\n",
      "[1/3] Decompressing the graphmlz file...\n",
      "[2/3] Load the metadata...\n",
      "[3/3] Rebuild the town object...\n",
      "Town graph successfully built from input files!\n",
      "Step has been run 1\n",
      "Status: {'S': 0, 'E': 2, 'Q': 100, 'I': 2, 'R': 0, 'D': 0, 'V': 1}\n",
      "Step has been run 2\n",
      "Status: {'S': 3, 'E': 0, 'Q': 102, 'I': 2, 'R': 0, 'D': 0, 'V': 3}\n"
     ]
    }
   ],
   "source": [
    "print(\"\\n\\n2️IMMIGRATION BALANCING DEATHS (λ_cap=0.05)\")\n",
    "print(\"-\" * 45)\n",
    "\n",
    "immigration_params = scon.SEIQRDVModelParameters(\n",
    "    max_energy=5,\n",
    "    lam_cap=0.05,        # 5% population growth daily\n",
    "    beta=0.0,            # No transmission\n",
    "    alpha=0.0,           # No vaccination  \n",
    "    gamma=1,             # Quick progression\n",
    "    delta=1,             # Quick quarantine\n",
    "    lam=7,               # Recovery time\n",
    "    rho=3,               # Death time\n",
    "    kappa=0.0,           # 30% mortality\n",
    "    mu=0.01,             # 1% natural death rate\n",
    "    hospital_capacity=10\n",
    ")\n",
    "\n",
    "town_immigration = create_fresh_town()\n",
    "model_immigration = scon.SEIQRDVModel(immigration_params, step_events)\n",
    "sim_immigration = scon.Simulation(town_immigration, model_immigration, 2)\n",
    "sim_immigration.run()"
   ]
  },
  {
   "cell_type": "markdown",
   "id": "c8fd24f3",
   "metadata": {},
   "source": [
    "Test 3: Natural deaths affecting all compartments"
   ]
  },
  {
   "cell_type": "code",
   "execution_count": 32,
   "id": "70fbf8e2",
   "metadata": {},
   "outputs": [
    {
     "name": "stdout",
     "output_type": "stream",
     "text": [
      "[1/3] Decompressing the graphmlz file...\n",
      "[2/3] Load the metadata...\n",
      "[3/3] Rebuild the town object...\n",
      "Town graph successfully built from input files!\n",
      "Step has been run 1\n",
      "Status: {'S': 0, 'E': 0, 'Q': 0, 'I': 0, 'R': 0, 'D': 100, 'V': 0}\n"
     ]
    }
   ],
   "source": [
    "natural_death_params = scon.SEIQRDVModelParameters(\n",
    "    max_energy=5,\n",
    "    lam_cap=0.0,        # Small immigration\n",
    "    beta=0.0,            # No transmission\n",
    "    alpha=0.5,           # Some vaccination\n",
    "    gamma=4,             # Standard progression\n",
    "    delta=5,             # Standard quarantine\n",
    "    lam=7,               # Recovery time\n",
    "    rho=7,               # Death time\n",
    "    kappa=0.0,           # No disease deaths (only natural)\n",
    "    mu=1.0,              # 10% natural death rate!\n",
    "    hospital_capacity=20\n",
    ")\n",
    "\n",
    "town_natural = create_fresh_town()\n",
    "model_natural = scon.SEIQRDVModel(natural_death_params, step_events)\n",
    "sim_natural = scon.Simulation(town_natural, model_natural, 1)\n",
    "sim_natural.run()"
   ]
  },
  {
   "cell_type": "markdown",
   "id": "62a27da2",
   "metadata": {},
   "source": [
    "Let's take another test case and analyze it. In this test case, we are going tot ake a look at a very sparse town and see that people who are infected cannot move and do not move anywhere once their cases are confirmed and they transition to being quarantined."
   ]
  },
  {
   "cell_type": "code",
   "execution_count": 55,
   "id": "9881e9a2",
   "metadata": {},
   "outputs": [
    {
     "name": "stdout",
     "output_type": "stream",
     "text": [
      "DETAILED QUARANTINE TRACKING TEST\n",
      "==================================================\n",
      "[1/3] Decompressing the graphmlz file...\n",
      "[2/3] Load the metadata...\n",
      "[3/3] Rebuild the town object...\n",
      "Town graph successfully built from input files!\n",
      "Step has been run 1\n",
      "Status: {'S': 3, 'E': 0, 'Q': 3, 'I': 0, 'R': 0, 'D': 0, 'V': 0}\n",
      "Step has been run 2\n",
      "Status: {'S': 3, 'E': 0, 'Q': 3, 'I': 0, 'R': 0, 'D': 0, 'V': 0}\n",
      "Step has been run 3\n",
      "Status: {'S': 3, 'E': 0, 'Q': 3, 'I': 0, 'R': 0, 'D': 0, 'V': 0}\n",
      "Step has been run 4\n",
      "Status: {'S': 3, 'E': 0, 'Q': 3, 'I': 0, 'R': 0, 'D': 0, 'V': 0}\n",
      "Tracking 6 agents through 4 timesteps:\n",
      "\n",
      "AGENT STATUS AND LOCATION TRACKING\n",
      "==================================================\n",
      "Agent | Step 1 | Step 2 | Step 3 | Step 4\n",
      "--------------------------------------------------\n",
      "   0  |   I@61 |   Q@31 |   Q@31 |   Q@31\n",
      "   1  |   I@20 |   Q@41 |   Q@41 |   Q@41\n",
      "   2  |   I@11 |   Q@52 |   Q@52 |   Q@52\n",
      "   3  |    S@9 |   S@29 |   S@35 |    S@7\n",
      "   4  |   S@14 |   S@18 |   S@61 |   S@73\n",
      "   5  |   S@24 |   S@50 |   S@17 |   S@59\n",
      "\n",
      "Legend: S=Susceptible, E=Exposed, I=Infectious, Q=Quarantined, R=Recovered, D=Dead\n",
      "Format: STATUS@LOCATION_NODE\n"
     ]
    }
   ],
   "source": [
    "print(\"DETAILED QUARANTINE TRACKING TEST\")\n",
    "print(\"=\" * 50)\n",
    "\n",
    "# Small town with exactly 6 people and 4 spreaders\n",
    "small_town = create_fresh_town(num_pop=6, num_spreader=3)\n",
    "\n",
    "# Fast quarantine parameters for clear tracking\n",
    "fast_quarantine_params = scon.SEIQRDVModelParameters(\n",
    "    max_energy=5,\n",
    "    lam_cap=0.0,         # No immigration for clear tracking\n",
    "    beta=0.0,            # No transmission\n",
    "    alpha=0.0,           # No vaccination to focus on quarantine\n",
    "    gamma=1,             # 1-day incubation (E→I)\n",
    "    delta=1,             # 1-day until quarantine (I→Q) \n",
    "    lam=5,               # 2 days to recover (Q→R)\n",
    "    rho=5,               # 2 days to death (Q→D)\n",
    "    kappa=0.0,           # 50% mortality in quarantine\n",
    "    mu=0.0,              # No natural deaths\n",
    "    hospital_capacity=10\n",
    ")\n",
    "\n",
    "fast_model = scon.SEIQRDVModel(fast_quarantine_params, step_events)\n",
    "fast_sim = scon.Simulation(small_town, fast_model, 4)  # 4 steps\n",
    "fast_sim.run()\n",
    "\n",
    "print(\"Tracking 6 agents through 4 timesteps:\")\n",
    "print()\n",
    "\n",
    "with h5py.File(\"simulation_output.h5\", \"r\") as h5file:\n",
    "    log = h5file[\"individual_logs/log\"][:]\n",
    "    \n",
    "    print(\"AGENT STATUS AND LOCATION TRACKING\")\n",
    "    print(\"=\" * 50)\n",
    "    print(\"Agent | Step 1 | Step 2 | Step 3 | Step 4\")\n",
    "    print(\"-\" * 50)\n",
    "    \n",
    "    for folk_id in range(6):  # Track all 6 agents\n",
    "        status_locations = []\n",
    "        \n",
    "        for timestep in range(1, 5):  # 4 timesteps\n",
    "            # Get the specific event data for this agent at this timestep\n",
    "            step_data = log[(log['timestep'] == timestep) & \n",
    "                           (log['event'] == b'do_something') & \n",
    "                           (log['folk_id'] == folk_id)]\n",
    "            \n",
    "            if len(step_data) > 0:\n",
    "                event = step_data[0]  # Take first (should be only one)\n",
    "                status = event['status'].decode('utf-8')\n",
    "                location = event['address']\n",
    "                status_locations.append(f\"{status}@{location}\")\n",
    "            else:\n",
    "                status_locations.append(\"?@?\")\n",
    "        \n",
    "        print(f\"  {folk_id:2d}  | {status_locations[0]:>6s} | {status_locations[1]:>6s} | {status_locations[2]:>6s} | {status_locations[3]:>6s}\")\n",
    "    \n",
    "    print(\"\\nLegend: S=Susceptible, E=Exposed, I=Infectious, Q=Quarantined, R=Recovered, D=Dead\")\n",
    "    print(\"Format: STATUS@LOCATION_NODE\")"
   ]
  },
  {
   "cell_type": "markdown",
   "id": "fd242dda",
   "metadata": {},
   "source": [
    "### Example: Realistic parameters for a 6-month simulation"
   ]
  },
  {
   "cell_type": "code",
   "execution_count": null,
   "id": "d5f12d6e",
   "metadata": {},
   "outputs": [],
   "source": [
    "# Realistic parameters for a 6-month simulation\n",
    "realistic_params = scon.SEIQRDVModelParameters(\n",
    "    max_energy=5,\n",
    "    lam_cap=0.003,       # 0.3% daily growth (realistic birth rate)\n",
    "    beta=0.3,            # Moderate transmission\n",
    "    alpha=0.1,           # 10% vaccination seeking\n",
    "    gamma=5,             # 5-day incubation\n",
    "    delta=3,             # 3 days to quarantine\n",
    "    lam=10,              # 10 days to recover\n",
    "    rho=8,               # 8 days to death\n",
    "    kappa=0.05,          # 5% disease mortality (realistic for many diseases)\n",
    "    mu=0.0003,           # 0.03% daily natural death rate (realistic background)\n",
    "    hospital_capacity=15\n",
    ")\n",
    "\n",
    "town_realistic = create_fresh_town()\n",
    "model_realistic = scon.SEIQRDVModel(realistic_params, step_events)\n",
    "sim_realistic = scon.Simulation(town_realistic, model_realistic, 180)  # 6 months\n",
    "sim_realistic.run()"
   ]
  },
  {
   "cell_type": "code",
   "execution_count": null,
   "id": "1564ff58",
   "metadata": {},
   "outputs": [],
   "source": [
    "scon.plot_status_summary_from_hdf5(\"simulation_output.h5\")"
   ]
  },
  {
   "cell_type": "code",
   "execution_count": null,
   "id": "795021bc",
   "metadata": {},
   "outputs": [],
   "source": [
    "scon.visualize_folks_on_map_from_sim(\"simulation_output.h5\", town_graph_path)"
   ]
  }
 ],
 "metadata": {
  "kernelspec": {
   "display_name": ".venv",
   "language": "python",
   "name": "python3"
  },
  "language_info": {
   "codemirror_mode": {
    "name": "ipython",
    "version": 3
   },
   "file_extension": ".py",
   "mimetype": "text/x-python",
   "name": "python",
   "nbconvert_exporter": "python",
   "pygments_lexer": "ipython3",
   "version": "3.12.10"
  }
 },
 "nbformat": 4,
 "nbformat_minor": 5
}
