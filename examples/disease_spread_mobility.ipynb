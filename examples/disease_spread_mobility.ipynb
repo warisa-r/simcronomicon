{
 "cells": [
  {
   "cell_type": "code",
   "execution_count": null,
   "id": "3b9bf467",
   "metadata": {},
   "outputs": [],
   "source": [
    "Advanced Probability Functions\n",
    "~~~~~~~~~~~~~~~~~~~~~~~~~~~~~\n",
    "\n",
    ".. code-block:: python\n",
    "\n",
    "   def time_dependent_mobility(distances, time_factor=1.0):\n",
    "       \"\"\"\n",
    "       Mobility that changes based on time of day or simulation conditions.\n",
    "       \"\"\"\n",
    "       import numpy as np\n",
    "       distances = np.array(distances)\n",
    "       \n",
    "       # During rush hour (time_factor > 1), prefer longer commutes\n",
    "       # During leisure time (time_factor < 1), prefer nearby locations\n",
    "       base_probs = np.exp(-distances / (1000 * time_factor))\n",
    "       return base_probs / np.sum(base_probs) if np.sum(base_probs) > 0 else base_probs\n",
    "\n",
    "   def socioeconomic_mobility(distances, wealth_level=0.5):\n",
    "       \"\"\"\n",
    "       Mobility patterns based on agent characteristics.\n",
    "       \"\"\"\n",
    "       import numpy as np\n",
    "       distances = np.array(distances)\n",
    "       \n",
    "       # Wealthier agents can travel farther more easily\n",
    "       characteristic_distance = 1000 + (wealth_level * 5000)  # 1-6km range\n",
    "       probs = np.exp(-distances / characteristic_distance)\n",
    "       return probs / np.sum(probs) if np.sum(probs) > 0 else probs"
   ]
  }
 ],
 "metadata": {
  "language_info": {
   "name": "python"
  }
 },
 "nbformat": 4,
 "nbformat_minor": 5
}
